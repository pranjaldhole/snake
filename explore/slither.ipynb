{
 "cells": [
  {
   "cell_type": "code",
   "execution_count": null,
   "metadata": {
    "collapsed": true
   },
   "outputs": [],
   "source": [
    "import pygame, sys\n",
    "sys.path.append('/home/pranjal/git_repos/snake/')\n",
    "import versions.simple as simple"
   ]
  },
  {
   "cell_type": "code",
   "execution_count": null,
   "metadata": {
    "collapsed": false
   },
   "outputs": [],
   "source": [
    "pygame.init()"
   ]
  },
  {
   "cell_type": "code",
   "execution_count": null,
   "metadata": {
    "collapsed": true
   },
   "outputs": [],
   "source": [
    "# defining game dimensions\n",
    "display_size = width, height = 800, 800"
   ]
  },
  {
   "cell_type": "code",
   "execution_count": null,
   "metadata": {
    "collapsed": true
   },
   "outputs": [],
   "source": [
    "# defining colors\n",
    "colors = dict(white = (255, 255, 255),\n",
    "             black = (0, 0, 0),\n",
    "             red = (255, 0, 0),\n",
    "             green = (0, 155, 0))"
   ]
  },
  {
   "cell_type": "code",
   "execution_count": null,
   "metadata": {
    "collapsed": false
   },
   "outputs": [],
   "source": [
    "# custom fonts\n",
    "myfonts = dict(smallfont = pygame.font.SysFont(\"comicsansms\", 15),\n",
    "                    medfont = pygame.font.SysFont(\"comicsansms\", 30),\n",
    "                    bigfont = pygame.font.SysFont(\"comicsansms\", 50))"
   ]
  },
  {
   "cell_type": "code",
   "execution_count": null,
   "metadata": {
    "collapsed": true
   },
   "outputs": [],
   "source": [
    "screen = pygame.display.set_mode(display_size)\n",
    "clock = pygame.time.Clock()"
   ]
  },
  {
   "cell_type": "code",
   "execution_count": null,
   "metadata": {
    "collapsed": false
   },
   "outputs": [],
   "source": [
    "game = simple.gameplay(20, 800)"
   ]
  },
  {
   "cell_type": "code",
   "execution_count": null,
   "metadata": {
    "collapsed": false
   },
   "outputs": [],
   "source": [
    "while True:\n",
    "    dt = clock.tick(120) / 1000.0\n",
    "    \n",
    "    events = pygame.event.get()\n",
    "    game.update(events, dt)\n",
    "    \n",
    "    for event in events:\n",
    "        if event.type == pygame.QUIT: sys.exit()\n",
    "            \n",
    "    screen.fill(colors['black'])\n",
    "    game.draw(screen)\n",
    "    pygame.display.flip()"
   ]
  },
  {
   "cell_type": "code",
   "execution_count": null,
   "metadata": {
    "collapsed": true
   },
   "outputs": [],
   "source": []
  },
  {
   "cell_type": "code",
   "execution_count": null,
   "metadata": {
    "collapsed": true
   },
   "outputs": [],
   "source": []
  }
 ],
 "metadata": {
  "kernelspec": {
   "display_name": "Python 3",
   "language": "python",
   "name": "python3"
  },
  "language_info": {
   "codemirror_mode": {
    "name": "ipython",
    "version": 3
   },
   "file_extension": ".py",
   "mimetype": "text/x-python",
   "name": "python",
   "nbconvert_exporter": "python",
   "pygments_lexer": "ipython3",
   "version": "3.5.2"
  }
 },
 "nbformat": 4,
 "nbformat_minor": 2
}
