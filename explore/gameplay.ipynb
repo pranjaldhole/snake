{
 "cells": [
  {
   "cell_type": "code",
   "execution_count": null,
   "metadata": {
    "collapsed": false
   },
   "outputs": [],
   "source": [
    "import pygame, sys\n",
    "sys.path.append('/home/pranjal/git_repos/snake/')\n",
    "import versions.simple as simple\n",
    "from utils import tools"
   ]
  },
  {
   "cell_type": "code",
   "execution_count": null,
   "metadata": {
    "collapsed": false
   },
   "outputs": [],
   "source": [
    "pygame.init()"
   ]
  },
  {
   "cell_type": "code",
   "execution_count": null,
   "metadata": {
    "collapsed": true
   },
   "outputs": [],
   "source": [
    "# defining game dimensions\n",
    "display_size = width, height = 800, 800"
   ]
  },
  {
   "cell_type": "code",
   "execution_count": null,
   "metadata": {
    "collapsed": true
   },
   "outputs": [],
   "source": [
    "# defining colors\n",
    "colors = dict(white = (255, 255, 255),\n",
    "             black = (0, 0, 0),\n",
    "             red = (255, 0, 0),\n",
    "             green = (0, 155, 0))"
   ]
  },
  {
   "cell_type": "code",
   "execution_count": null,
   "metadata": {
    "collapsed": false
   },
   "outputs": [],
   "source": [
    "# custom fonts\n",
    "myfonts = dict(smallfont = pygame.font.SysFont(\"comicsansms\", 15),\n",
    "                    medfont = pygame.font.SysFont(\"comicsansms\", 30),\n",
    "                    bigfont = pygame.font.SysFont(\"comicsansms\", 50))"
   ]
  },
  {
   "cell_type": "code",
   "execution_count": null,
   "metadata": {
    "collapsed": true
   },
   "outputs": [],
   "source": [
    "# general text object\n",
    "def text_obj(text, color, size, fonts):\n",
    "    if size == 'small':\n",
    "        textSurf = fonts['smallfont'].render(text, True, color)\n",
    "    elif size == 'medium':\n",
    "        textSurf = fonts['medfont'].render(text, True, color)\n",
    "    elif size == 'large':\n",
    "        textSurf = fonts['bigfont'].render(text, True, color)\n",
    "    return textSurf, textSurf.get_rect()\n",
    "\n",
    "# general message on screen\n",
    "def msg2screen(msg, color, y_displace, size, font, screen_size, screen):\n",
    "    textSurf, textRect = text_obj(msg, color, size, font)\n",
    "    textRect.center = (screen_size[0] / 2), (screen_size[1] / 2) + y_displace\n",
    "    screen.blit(textSurf, textRect)\n"
   ]
  },
  {
   "cell_type": "code",
   "execution_count": null,
   "metadata": {
    "collapsed": true
   },
   "outputs": [],
   "source": [
    "def game_intro(screen_size, colors, font, screen):\n",
    "    intro = True\n",
    "    version = []\n",
    "    while intro:\n",
    "        for event in pygame.event.get():\n",
    "            if event.type == pygame.QUIT:\n",
    "                pygame.quit()\n",
    "                sys.exit('You exited the game')\n",
    "\n",
    "            if event.type == pygame.KEYDOWN:\n",
    "                if event.key == pygame.K_s:\n",
    "                    version.append(1)\n",
    "                    intro = False\n",
    "                elif event.key == pygame.K_c:\n",
    "                    version.append(2)\n",
    "                    intro = False\n",
    "                elif event.key == pygame.K_q:\n",
    "                    pygame.quit()\n",
    "                    sys.exit('You exited the game')\n",
    "\n",
    "        screen.fill(colors['white'])\n",
    "        msg2screen(\"Welcome to Game of Snake\", colors['green'], -120, \"large\",\\\n",
    "                    font, screen_size, screen)\n",
    "        msg2screen(\"You are Slither the Snake and your objective is to eat red apples!\",\\\n",
    "                    colors['black'], -30, \"small\", font, screen_size,screen)\n",
    "        msg2screen(\"The more apples you eat, the longer you get...\",\\\n",
    "                    colors['black'], 10, \"small\", font, screen_size,screen)\n",
    "        msg2screen(\"If you bite into yourself, you die!\",\\\n",
    "                    colors['black'], 50, \"small\", font, screen_size,screen)\n",
    "        msg2screen(\"Press s to play crude version or c to play Slither, P to pause, or press Q to quit\",\\\n",
    "                    colors['black'], 160, \"small\", font, screen_size, screen)\n",
    "        pygame.display.update()\n",
    "        return(version)"
   ]
  },
  {
   "cell_type": "code",
   "execution_count": null,
   "metadata": {
    "collapsed": false
   },
   "outputs": [],
   "source": [
    "screen = pygame.display.set_mode(display_size)\n",
    "clock = pygame.time.Clock()\n",
    "version = tools.game_intro(display_size, colors, myfonts, screen)\n",
    "\n",
    "if version[0] == 1:\n",
    "    from versions import simple\n",
    "    game = simple.gameplay(20, 800)\n",
    "elif version[0] == 2:\n",
    "    pygame.quit()\n",
    "    sys.exit('Slither is not hungry yet! Play the crude version!')\n",
    "#     from versions import slither\n",
    "#     game = simple.gameplay(20, 800)\n",
    "switch = True\n",
    "\n",
    "while switch:\n",
    "    dt = clock.tick(12) / 1000.0\n",
    "    \n",
    "    events = pygame.event.get()\n",
    "    game.update(events, dt)\n",
    "    \n",
    "    for event in events:\n",
    "        if event.type == pygame.QUIT:\n",
    "            switch = False\n",
    "            pygame.quit()\n",
    "            sys.exit('you exited the game')\n",
    "            \n",
    "    screen.fill(colors['black'])\n",
    "    game.draw(screen)\n",
    "    pygame.display.flip()"
   ]
  },
  {
   "cell_type": "code",
   "execution_count": null,
   "metadata": {
    "collapsed": false
   },
   "outputs": [],
   "source": []
  },
  {
   "cell_type": "code",
   "execution_count": null,
   "metadata": {
    "collapsed": false
   },
   "outputs": [],
   "source": []
  },
  {
   "cell_type": "code",
   "execution_count": null,
   "metadata": {
    "collapsed": true
   },
   "outputs": [],
   "source": []
  },
  {
   "cell_type": "code",
   "execution_count": null,
   "metadata": {
    "collapsed": true
   },
   "outputs": [],
   "source": []
  }
 ],
 "metadata": {
  "kernelspec": {
   "display_name": "Python 3",
   "language": "python",
   "name": "python3"
  },
  "language_info": {
   "codemirror_mode": {
    "name": "ipython",
    "version": 3
   },
   "file_extension": ".py",
   "mimetype": "text/x-python",
   "name": "python",
   "nbconvert_exporter": "python",
   "pygments_lexer": "ipython3",
   "version": "3.5.2"
  }
 },
 "nbformat": 4,
 "nbformat_minor": 2
}
